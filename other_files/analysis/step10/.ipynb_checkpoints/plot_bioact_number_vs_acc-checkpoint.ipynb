{
 "metadata": {
  "name": "",
  "signature": "sha256:350208763abe70491839ac94d637e8e7bc9fb412a33eccc73d0c57f7e0948d95"
 },
 "nbformat": 3,
 "nbformat_minor": 0,
 "worksheets": [
  {
   "cells": [
    {
     "cell_type": "code",
     "collapsed": false,
     "input": [
      "\"\"\"\n",
      "Bar chart demo with pairs of bars grouped for easy comparison.\n",
      "\"\"\"\n",
      "import numpy as np\n",
      "import matplotlib.pyplot as plt\n",
      "\n",
      "%pylab inline"
     ],
     "language": "python",
     "metadata": {},
     "outputs": [
      {
       "output_type": "stream",
       "stream": "stdout",
       "text": [
        "Populating the interactive namespace from numpy and matplotlib\n"
       ]
      }
     ],
     "prompt_number": 1
    },
    {
     "cell_type": "code",
     "collapsed": false,
     "input": [
      "n_groups = 2\n",
      "\n",
      "means_bioact_number = (3528, 1580)\n",
      "\n",
      "\n",
      "fig, ax = plt.subplots()\n",
      "\n",
      "index = np.arange(n_groups)\n",
      "bar_width = 0.35\n",
      "\n",
      "opacity = 0.4\n",
      "error_config = {'ecolor': '0.3'}\n",
      "\n",
      "rects1 = plt.bar(index, means_bioact_number, bar_width,\n",
      "                 alpha=opacity,\n",
      "                 color='b',\n",
      "                 label='bioactivity record number')\n",
      "\n",
      "plt.xlabel('Uniprot ACCs')\n",
      "plt.ylabel('number of bioactivity records')\n",
      "plt.title('Number of ChEMBL bioactivity record for each Uniprot Accession Number')\n",
      "plt.xticks(index + bar_width, ('P28845', 'P14061')\n",
      "\n",
      ")\n",
      "plt.legend()\n",
      "plt.tight_layout()\n",
      "plt.savefig('pdbnumberfigure.png')\n",
      "plt.show()"
     ],
     "language": "python",
     "metadata": {},
     "outputs": [
      {
       "metadata": {},
       "output_type": "display_data",
       "png": "[encoded data removed]",
       "text": [
        "<matplotlib.figure.Figure at 0x7fc83dd27c50>"
       ]
      }
     ],
     "prompt_number": 4
    },
    {
     "cell_type": "code",
     "collapsed": false,
     "input": [
      "n_groups = 2\n",
      "\n",
      "means_bioact_number = (3528, 1580)\n",
      "\n",
      "\n",
      "fig, ax = plt.subplots()\n",
      "\n",
      "index = np.arange(n_groups)\n",
      "bar_width = 0.35\n",
      "\n",
      "opacity = 0.4\n",
      "error_config = {'ecolor': '0.3'}\n",
      "\n",
      "rects1 = plt.bar(index, means_bioact_number, bar_width,\n",
      "                 alpha=opacity,\n",
      "                 color='b',\n",
      "                 label='bioactivity record number')\n",
      "\n",
      "plt.xlabel('Uniprot ACCs')\n",
      "plt.ylabel('number of bioactivity records')\n",
      "plt.title('Number of ChEMBL bioactivity record for each Uniprot Accession Number')\n",
      "plt.xticks(index + bar_width, ('P28845', 'P14061')\n",
      "\n",
      ")\n",
      "plt.legend()\n",
      "plt.tight_layout()\n",
      "plt.savefig('pdbnumberfigure.png')\n",
      "plt.show()"
     ],
     "language": "python",
     "metadata": {},
     "outputs": []
    }
   ],
   "metadata": {}
  }
 ]
}