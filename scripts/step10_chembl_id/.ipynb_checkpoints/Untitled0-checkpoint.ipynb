{
 "metadata": {
  "name": "",
  "signature": "sha256:292e7cfdca619c6a706958fca3b0a5723ff8a0464aed99e58145d883bc0f3f9a"
 },
 "nbformat": 3,
 "nbformat_minor": 0,
 "worksheets": []
}