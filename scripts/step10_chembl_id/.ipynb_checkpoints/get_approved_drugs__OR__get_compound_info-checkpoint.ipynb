{
 "metadata": {
  "name": "",
  "signature": "sha256:a69347261c895a002fe5d8db3dd0821a3601e32c14fbd18d1dcd34d81b1f783d"
 },
 "nbformat": 3,
 "nbformat_minor": 0,
 "worksheets": [
  {
   "cells": [
    {
     "cell_type": "code",
     "collapsed": false,
     "input": [
      "from bioservices import *\n",
      "s = ChEMBL(verbose=False)\n",
      "\n",
      "from pandas import Series, DataFrame\n",
      "import pandas as pd\n",
      "import json"
     ],
     "language": "python",
     "metadata": {},
     "outputs": [],
     "prompt_number": 16
    },
    {
     "cell_type": "code",
     "collapsed": false,
     "input": [
      "target= s.get_target_by_uniprotId('P00519')\n",
      "target_chembl_id=target[\"chemblId\"]\n",
      "target_chembl_id"
     ],
     "language": "python",
     "metadata": {},
     "outputs": [
      {
       "metadata": {},
       "output_type": "pyout",
       "prompt_number": 14,
       "text": [
        "u'CHEMBL1862'"
       ]
      }
     ],
     "prompt_number": 14
    },
    {
     "cell_type": "code",
     "collapsed": false,
     "input": [
      "#input is target chembl ID\n",
      "\n",
      "drugs=s.get_approved_drugs(str(target_chembl_id), frmt='json')\n",
      "drugs"
     ],
     "language": "python",
     "metadata": {},
     "outputs": [
      {
       "metadata": {},
       "output_type": "pyout",
       "prompt_number": 21,
       "text": [
        "{u'approvedDrugs': [{u'chemblId': u'CHEMBL2105708',\n",
        "   u'mechanismOfAction': u'Tyrosine-protein kinase ABL inhibitor',\n",
        "   u'name': u'PONATINIB HYDROCHLORIDE'},\n",
        "  {u'chemblId': u'CHEMBL1201740',\n",
        "   u'mechanismOfAction': u'Tyrosine-protein kinase ABL inhibitor',\n",
        "   u'name': u'NILOTINIB HYDROCHLORIDE MONOHYDRATE'},\n",
        "  {u'chemblId': u'CHEMBL1421',\n",
        "   u'mechanismOfAction': u'Tyrosine-protein kinase ABL inhibitor',\n",
        "   u'name': u'DASATINIB'},\n",
        "  {u'chemblId': u'CHEMBL288441',\n",
        "   u'mechanismOfAction': u'Tyrosine-protein kinase ABL inhibitor',\n",
        "   u'name': u'BOSUTINIB'},\n",
        "  {u'chemblId': u'CHEMBL1946170',\n",
        "   u'mechanismOfAction': u'Tyrosine-protein kinase ABL inhibitor',\n",
        "   u'name': u'REGORAFENIB'},\n",
        "  {u'chemblId': u'CHEMBL1642',\n",
        "   u'mechanismOfAction': u'Tyrosine-protein kinase ABL inhibitor',\n",
        "   u'name': u'IMATINIB MESYLATE'}]}"
       ]
      }
     ],
     "prompt_number": 21
    },
    {
     "cell_type": "code",
     "collapsed": false,
     "input": [],
     "language": "python",
     "metadata": {},
     "outputs": []
    },
    {
     "cell_type": "code",
     "collapsed": false,
     "input": [
      "df_drugs=DataFrame(drugs['approvedDrugs'])\n",
      "df_drugs"
     ],
     "language": "python",
     "metadata": {},
     "outputs": [
      {
       "html": [
        "<div style=\"max-height:1000px;max-width:1500px;overflow:auto;\">\n",
        "<table border=\"1\" class=\"dataframe\">\n",
        "  <thead>\n",
        "    <tr style=\"text-align: right;\">\n",
        "      <th></th>\n",
        "      <th>chemblId</th>\n",
        "      <th>mechanismOfAction</th>\n",
        "      <th>name</th>\n",
        "    </tr>\n",
        "  </thead>\n",
        "  <tbody>\n",
        "    <tr>\n",
        "      <th>0</th>\n",
        "      <td> CHEMBL2105708</td>\n",
        "      <td> Tyrosine-protein kinase ABL inhibitor</td>\n",
        "      <td>             PONATINIB HYDROCHLORIDE</td>\n",
        "    </tr>\n",
        "    <tr>\n",
        "      <th>1</th>\n",
        "      <td> CHEMBL1201740</td>\n",
        "      <td> Tyrosine-protein kinase ABL inhibitor</td>\n",
        "      <td> NILOTINIB HYDROCHLORIDE MONOHYDRATE</td>\n",
        "    </tr>\n",
        "    <tr>\n",
        "      <th>2</th>\n",
        "      <td>    CHEMBL1421</td>\n",
        "      <td> Tyrosine-protein kinase ABL inhibitor</td>\n",
        "      <td>                           DASATINIB</td>\n",
        "    </tr>\n",
        "    <tr>\n",
        "      <th>3</th>\n",
        "      <td>  CHEMBL288441</td>\n",
        "      <td> Tyrosine-protein kinase ABL inhibitor</td>\n",
        "      <td>                           BOSUTINIB</td>\n",
        "    </tr>\n",
        "    <tr>\n",
        "      <th>4</th>\n",
        "      <td> CHEMBL1946170</td>\n",
        "      <td> Tyrosine-protein kinase ABL inhibitor</td>\n",
        "      <td>                         REGORAFENIB</td>\n",
        "    </tr>\n",
        "    <tr>\n",
        "      <th>5</th>\n",
        "      <td>    CHEMBL1642</td>\n",
        "      <td> Tyrosine-protein kinase ABL inhibitor</td>\n",
        "      <td>                   IMATINIB MESYLATE</td>\n",
        "    </tr>\n",
        "  </tbody>\n",
        "</table>\n",
        "</div>"
       ],
       "metadata": {},
       "output_type": "pyout",
       "prompt_number": 25,
       "text": [
        "        chemblId                      mechanismOfAction  \\\n",
        "0  CHEMBL2105708  Tyrosine-protein kinase ABL inhibitor   \n",
        "1  CHEMBL1201740  Tyrosine-protein kinase ABL inhibitor   \n",
        "2     CHEMBL1421  Tyrosine-protein kinase ABL inhibitor   \n",
        "3   CHEMBL288441  Tyrosine-protein kinase ABL inhibitor   \n",
        "4  CHEMBL1946170  Tyrosine-protein kinase ABL inhibitor   \n",
        "5     CHEMBL1642  Tyrosine-protein kinase ABL inhibitor   \n",
        "\n",
        "                                  name  \n",
        "0              PONATINIB HYDROCHLORIDE  \n",
        "1  NILOTINIB HYDROCHLORIDE MONOHYDRATE  \n",
        "2                            DASATINIB  \n",
        "3                            BOSUTINIB  \n",
        "4                          REGORAFENIB  \n",
        "5                    IMATINIB MESYLATE  "
       ]
      }
     ],
     "prompt_number": 25
    },
    {
     "cell_type": "code",
     "collapsed": false,
     "input": [
      "len(df_drugs)"
     ],
     "language": "python",
     "metadata": {},
     "outputs": [
      {
       "metadata": {},
       "output_type": "pyout",
       "prompt_number": 26,
       "text": [
        "6"
       ]
      }
     ],
     "prompt_number": 26
    },
    {
     "cell_type": "markdown",
     "metadata": {},
     "source": [
      "#get compound information"
     ]
    },
    {
     "cell_type": "code",
     "collapsed": false,
     "input": [
      "compound=df_drugs.ix[0,'chemblId']\n",
      "compound_info=s.get_compounds_by_chemblId(str(compound))\n",
      "compound_info"
     ],
     "language": "python",
     "metadata": {},
     "outputs": [
      {
       "metadata": {},
       "output_type": "pyout",
       "prompt_number": 32,
       "text": [
        "{u'compound': {u'acdAcidicPka': 12.99,\n",
        "  u'acdBasicPka': 7.54,\n",
        "  u'acdLogd': 4.61,\n",
        "  u'acdLogp': 5.01,\n",
        "  u'alogp': 4.88,\n",
        "  u'chemblId': u'CHEMBL2105708',\n",
        "  u'knownDrug': u'Yes',\n",
        "  u'medChemFriendly': u'Yes',\n",
        "  u'molecularFormula': u'C29H28ClF3N6O',\n",
        "  u'molecularWeight': 532.56,\n",
        "  u'numRo5Violations': 1,\n",
        "  u'passesRuleOfThree': u'No',\n",
        "  u'preferredCompoundName': u'PONATINIB HYDROCHLORIDE',\n",
        "  u'rotatableBonds': 7,\n",
        "  u'smiles': u'Cl.CN1CCN(Cc2ccc(NC(=O)c3ccc(C)c(c3)C#Cc4cnc5cccnn45)cc2C(F)(F)F)CC1',\n",
        "  u'species': u'NEUTRAL',\n",
        "  u'stdInChiKey': u'BWTNNZPNKQIADY-UHFFFAOYSA-N',\n",
        "  u'synonyms': u'AP-24534 HCl,Iclusig,Ponatinib HCl'}}"
       ]
      }
     ],
     "prompt_number": 32
    },
    {
     "cell_type": "code",
     "collapsed": false,
     "input": [
      "df_compound_info=DataFrame(compound_info)\n",
      "df_compound_info"
     ],
     "language": "python",
     "metadata": {},
     "outputs": [
      {
       "html": [
        "<div style=\"max-height:1000px;max-width:1500px;overflow:auto;\">\n",
        "<table border=\"1\" class=\"dataframe\">\n",
        "  <thead>\n",
        "    <tr style=\"text-align: right;\">\n",
        "      <th></th>\n",
        "      <th>compound</th>\n",
        "    </tr>\n",
        "  </thead>\n",
        "  <tbody>\n",
        "    <tr>\n",
        "      <th>acdAcidicPka</th>\n",
        "      <td>                                             12.99</td>\n",
        "    </tr>\n",
        "    <tr>\n",
        "      <th>acdBasicPka</th>\n",
        "      <td>                                              7.54</td>\n",
        "    </tr>\n",
        "    <tr>\n",
        "      <th>acdLogd</th>\n",
        "      <td>                                              4.61</td>\n",
        "    </tr>\n",
        "    <tr>\n",
        "      <th>acdLogp</th>\n",
        "      <td>                                              5.01</td>\n",
        "    </tr>\n",
        "    <tr>\n",
        "      <th>alogp</th>\n",
        "      <td>                                              4.88</td>\n",
        "    </tr>\n",
        "    <tr>\n",
        "      <th>chemblId</th>\n",
        "      <td>                                     CHEMBL2105708</td>\n",
        "    </tr>\n",
        "    <tr>\n",
        "      <th>knownDrug</th>\n",
        "      <td>                                               Yes</td>\n",
        "    </tr>\n",
        "    <tr>\n",
        "      <th>medChemFriendly</th>\n",
        "      <td>                                               Yes</td>\n",
        "    </tr>\n",
        "    <tr>\n",
        "      <th>molecularFormula</th>\n",
        "      <td>                                     C29H28ClF3N6O</td>\n",
        "    </tr>\n",
        "    <tr>\n",
        "      <th>molecularWeight</th>\n",
        "      <td>                                            532.56</td>\n",
        "    </tr>\n",
        "    <tr>\n",
        "      <th>numRo5Violations</th>\n",
        "      <td>                                                 1</td>\n",
        "    </tr>\n",
        "    <tr>\n",
        "      <th>passesRuleOfThree</th>\n",
        "      <td>                                                No</td>\n",
        "    </tr>\n",
        "    <tr>\n",
        "      <th>preferredCompoundName</th>\n",
        "      <td>                           PONATINIB HYDROCHLORIDE</td>\n",
        "    </tr>\n",
        "    <tr>\n",
        "      <th>rotatableBonds</th>\n",
        "      <td>                                                 7</td>\n",
        "    </tr>\n",
        "    <tr>\n",
        "      <th>smiles</th>\n",
        "      <td> Cl.CN1CCN(Cc2ccc(NC(=O)c3ccc(C)c(c3)C#Cc4cnc5c...</td>\n",
        "    </tr>\n",
        "    <tr>\n",
        "      <th>species</th>\n",
        "      <td>                                           NEUTRAL</td>\n",
        "    </tr>\n",
        "    <tr>\n",
        "      <th>stdInChiKey</th>\n",
        "      <td>                       BWTNNZPNKQIADY-UHFFFAOYSA-N</td>\n",
        "    </tr>\n",
        "    <tr>\n",
        "      <th>synonyms</th>\n",
        "      <td>                AP-24534 HCl,Iclusig,Ponatinib HCl</td>\n",
        "    </tr>\n",
        "  </tbody>\n",
        "</table>\n",
        "</div>"
       ],
       "metadata": {},
       "output_type": "pyout",
       "prompt_number": 34,
       "text": [
        "                                                                compound\n",
        "acdAcidicPka                                                       12.99\n",
        "acdBasicPka                                                         7.54\n",
        "acdLogd                                                             4.61\n",
        "acdLogp                                                             5.01\n",
        "alogp                                                               4.88\n",
        "chemblId                                                   CHEMBL2105708\n",
        "knownDrug                                                            Yes\n",
        "medChemFriendly                                                      Yes\n",
        "molecularFormula                                           C29H28ClF3N6O\n",
        "molecularWeight                                                   532.56\n",
        "numRo5Violations                                                       1\n",
        "passesRuleOfThree                                                     No\n",
        "preferredCompoundName                            PONATINIB HYDROCHLORIDE\n",
        "rotatableBonds                                                         7\n",
        "smiles                 Cl.CN1CCN(Cc2ccc(NC(=O)c3ccc(C)c(c3)C#Cc4cnc5c...\n",
        "species                                                          NEUTRAL\n",
        "stdInChiKey                                  BWTNNZPNKQIADY-UHFFFAOYSA-N\n",
        "synonyms                              AP-24534 HCl,Iclusig,Ponatinib HCl"
       ]
      }
     ],
     "prompt_number": 34
    },
    {
     "cell_type": "code",
     "collapsed": false,
     "input": [],
     "language": "python",
     "metadata": {},
     "outputs": []
    }
   ],
   "metadata": {}
  }
 ]
}