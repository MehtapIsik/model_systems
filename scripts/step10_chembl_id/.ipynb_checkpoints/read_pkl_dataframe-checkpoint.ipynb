{
 "metadata": {
  "name": "",
  "signature": "sha256:bb83e6f1a6a8f2b40965245c54412202ae6f5a4627955103fa99fa13dba9bf78"
 },
 "nbformat": 3,
 "nbformat_minor": 0,
 "worksheets": [
  {
   "cells": [
    {
     "cell_type": "code",
     "collapsed": false,
     "input": [
      "from pandas import Series, DataFrame\n",
      "import pandas as pd\n",
      "\n",
      "df=pd.read_pickle('filename.pkl')"
     ],
     "language": "python",
     "metadata": {},
     "outputs": []
    }
   ],
   "metadata": {}
  }
 ]
}